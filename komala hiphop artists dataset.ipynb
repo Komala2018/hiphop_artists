{
  "cells": [
    {
      "cell_type": "markdown",
      "source": [
        "TITLE:HIPHOP ARTISTS\n",
        "PURPOSE:Self-expression: Many hip-hop artists use their music as a medium for self-expression, sharing their personal experiences, struggles, and triumphs through their lyrics and performances.\n",
        "Social commentary: Hip-hop has a rich tradition of addressing social and political issues. Artists may use their platform to raise awareness about social injustices, inequality, racism, poverty, and other important issues affecting their communities.\n",
        "Cultural representation: Hip-hop artists often serve as cultural ambassadors, representing their communities, identities, and experiences through their music and artistry.\n",
        "Entertainment: At its core, hip-hop is a form of entertainment. Artists create music that is meant to be enjoyed, danced to, and celebrated by audiences around the world.\n",
        "Inspiration and empowerment: Hip-hop has the power to inspire and empower listeners. Artists may aim to uplift their audience with messages of resilience, determination, and self-belief.\n",
        "Storytelling: Hip-hop is a storytelling genre, and many artists use their music to tell stories about their lives, neighborhoods, and the world around them.\n",
        "Catharsis: For many artists,"
      ],
      "metadata": {
        "id": "c29h_yks9kSj"
      }
    },
    {
      "cell_type": "markdown",
      "source": [
        "step1: importing necessary packages for data manipulation and visualization"
      ],
      "metadata": {
        "id": "l6V4KCg1-NeQ"
      }
    },
    {
      "cell_type": "code",
      "source": [
        "import pandas as pd\n",
        "import matplotlib as mpl\n",
        "\n"
      ],
      "metadata": {
        "id": "ob1Tluip-avH"
      },
      "execution_count": null,
      "outputs": []
    },
    {
      "cell_type": "markdown",
      "source": [
        "step2:loading the dataset from local to pandas to create seperate dataset"
      ],
      "metadata": {
        "id": "5fDBLJoE-omB"
      }
    },
    {
      "cell_type": "code",
      "source": [
        "data = pd.read_csv('top_hiphop_artists_tracks.csv',encoding='latin1') # it reads the dataset from local data\n"
      ],
      "metadata": {
        "id": "XKSvqH7V_JhH"
      },
      "execution_count": null,
      "outputs": []
    },
    {
      "cell_type": "markdown",
      "source": [
        "Step 3: Data View"
      ],
      "metadata": {
        "id": "6R6CcEPzWPnq"
      }
    },
    {
      "cell_type": "code",
      "source": [
        "data.head() # Prints the first 5 rows of the dataset"
      ],
      "metadata": {
        "id": "s1TE3o0GWWcz",
        "outputId": "73f4a5a9-3365-4af1-e47d-040cfcf635d6",
        "colab": {
          "base_uri": "https://localhost:8080/",
          "height": 206
        }
      },
      "execution_count": null,
      "outputs": [
        {
          "output_type": "execute_result",
          "data": {
            "text/plain": [
              "  Artist                               Track Name  Popularity  Duration (ms)  \\\n",
              "0  Drake  Rich Baby Daddy (feat. Sexyy Red & SZA)          92         319191   \n",
              "1  Drake                                One Dance          91         173986   \n",
              "2  Drake                       IDGAF (feat. Yeat)          90         260111   \n",
              "3  Drake     First Person Shooter (feat. J. Cole)          88         247444   \n",
              "4  Drake            Jimmy Cooks (feat. 21 Savage)          88         218364   \n",
              "\n",
              "                 Track ID  \n",
              "0  1yeB8MUNeLo9Ek1UEpsyz6  \n",
              "1  1zi7xx7UVEFkmKfv06H8x0  \n",
              "2  2YSzYUF3jWqb9YP9VXmpjE  \n",
              "3  7aqfrAY2p9BUSiupwk3svU  \n",
              "4  3F5CgOj3wFlRv51JsHbxhe  "
            ],
            "text/html": [
              "\n",
              "  <div id=\"df-68c51fa5-af90-4d5a-9653-d59d59a2ab65\" class=\"colab-df-container\">\n",
              "    <div>\n",
              "<style scoped>\n",
              "    .dataframe tbody tr th:only-of-type {\n",
              "        vertical-align: middle;\n",
              "    }\n",
              "\n",
              "    .dataframe tbody tr th {\n",
              "        vertical-align: top;\n",
              "    }\n",
              "\n",
              "    .dataframe thead th {\n",
              "        text-align: right;\n",
              "    }\n",
              "</style>\n",
              "<table border=\"1\" class=\"dataframe\">\n",
              "  <thead>\n",
              "    <tr style=\"text-align: right;\">\n",
              "      <th></th>\n",
              "      <th>Artist</th>\n",
              "      <th>Track Name</th>\n",
              "      <th>Popularity</th>\n",
              "      <th>Duration (ms)</th>\n",
              "      <th>Track ID</th>\n",
              "    </tr>\n",
              "  </thead>\n",
              "  <tbody>\n",
              "    <tr>\n",
              "      <th>0</th>\n",
              "      <td>Drake</td>\n",
              "      <td>Rich Baby Daddy (feat. Sexyy Red &amp; SZA)</td>\n",
              "      <td>92</td>\n",
              "      <td>319191</td>\n",
              "      <td>1yeB8MUNeLo9Ek1UEpsyz6</td>\n",
              "    </tr>\n",
              "    <tr>\n",
              "      <th>1</th>\n",
              "      <td>Drake</td>\n",
              "      <td>One Dance</td>\n",
              "      <td>91</td>\n",
              "      <td>173986</td>\n",
              "      <td>1zi7xx7UVEFkmKfv06H8x0</td>\n",
              "    </tr>\n",
              "    <tr>\n",
              "      <th>2</th>\n",
              "      <td>Drake</td>\n",
              "      <td>IDGAF (feat. Yeat)</td>\n",
              "      <td>90</td>\n",
              "      <td>260111</td>\n",
              "      <td>2YSzYUF3jWqb9YP9VXmpjE</td>\n",
              "    </tr>\n",
              "    <tr>\n",
              "      <th>3</th>\n",
              "      <td>Drake</td>\n",
              "      <td>First Person Shooter (feat. J. Cole)</td>\n",
              "      <td>88</td>\n",
              "      <td>247444</td>\n",
              "      <td>7aqfrAY2p9BUSiupwk3svU</td>\n",
              "    </tr>\n",
              "    <tr>\n",
              "      <th>4</th>\n",
              "      <td>Drake</td>\n",
              "      <td>Jimmy Cooks (feat. 21 Savage)</td>\n",
              "      <td>88</td>\n",
              "      <td>218364</td>\n",
              "      <td>3F5CgOj3wFlRv51JsHbxhe</td>\n",
              "    </tr>\n",
              "  </tbody>\n",
              "</table>\n",
              "</div>\n",
              "    <div class=\"colab-df-buttons\">\n",
              "\n",
              "  <div class=\"colab-df-container\">\n",
              "    <button class=\"colab-df-convert\" onclick=\"convertToInteractive('df-68c51fa5-af90-4d5a-9653-d59d59a2ab65')\"\n",
              "            title=\"Convert this dataframe to an interactive table.\"\n",
              "            style=\"display:none;\">\n",
              "\n",
              "  <svg xmlns=\"http://www.w3.org/2000/svg\" height=\"24px\" viewBox=\"0 -960 960 960\">\n",
              "    <path d=\"M120-120v-720h720v720H120Zm60-500h600v-160H180v160Zm220 220h160v-160H400v160Zm0 220h160v-160H400v160ZM180-400h160v-160H180v160Zm440 0h160v-160H620v160ZM180-180h160v-160H180v160Zm440 0h160v-160H620v160Z\"/>\n",
              "  </svg>\n",
              "    </button>\n",
              "\n",
              "  <style>\n",
              "    .colab-df-container {\n",
              "      display:flex;\n",
              "      gap: 12px;\n",
              "    }\n",
              "\n",
              "    .colab-df-convert {\n",
              "      background-color: #E8F0FE;\n",
              "      border: none;\n",
              "      border-radius: 50%;\n",
              "      cursor: pointer;\n",
              "      display: none;\n",
              "      fill: #1967D2;\n",
              "      height: 32px;\n",
              "      padding: 0 0 0 0;\n",
              "      width: 32px;\n",
              "    }\n",
              "\n",
              "    .colab-df-convert:hover {\n",
              "      background-color: #E2EBFA;\n",
              "      box-shadow: 0px 1px 2px rgba(60, 64, 67, 0.3), 0px 1px 3px 1px rgba(60, 64, 67, 0.15);\n",
              "      fill: #174EA6;\n",
              "    }\n",
              "\n",
              "    .colab-df-buttons div {\n",
              "      margin-bottom: 4px;\n",
              "    }\n",
              "\n",
              "    [theme=dark] .colab-df-convert {\n",
              "      background-color: #3B4455;\n",
              "      fill: #D2E3FC;\n",
              "    }\n",
              "\n",
              "    [theme=dark] .colab-df-convert:hover {\n",
              "      background-color: #434B5C;\n",
              "      box-shadow: 0px 1px 3px 1px rgba(0, 0, 0, 0.15);\n",
              "      filter: drop-shadow(0px 1px 2px rgba(0, 0, 0, 0.3));\n",
              "      fill: #FFFFFF;\n",
              "    }\n",
              "  </style>\n",
              "\n",
              "    <script>\n",
              "      const buttonEl =\n",
              "        document.querySelector('#df-68c51fa5-af90-4d5a-9653-d59d59a2ab65 button.colab-df-convert');\n",
              "      buttonEl.style.display =\n",
              "        google.colab.kernel.accessAllowed ? 'block' : 'none';\n",
              "\n",
              "      async function convertToInteractive(key) {\n",
              "        const element = document.querySelector('#df-68c51fa5-af90-4d5a-9653-d59d59a2ab65');\n",
              "        const dataTable =\n",
              "          await google.colab.kernel.invokeFunction('convertToInteractive',\n",
              "                                                    [key], {});\n",
              "        if (!dataTable) return;\n",
              "\n",
              "        const docLinkHtml = 'Like what you see? Visit the ' +\n",
              "          '<a target=\"_blank\" href=https://colab.research.google.com/notebooks/data_table.ipynb>data table notebook</a>'\n",
              "          + ' to learn more about interactive tables.';\n",
              "        element.innerHTML = '';\n",
              "        dataTable['output_type'] = 'display_data';\n",
              "        await google.colab.output.renderOutput(dataTable, element);\n",
              "        const docLink = document.createElement('div');\n",
              "        docLink.innerHTML = docLinkHtml;\n",
              "        element.appendChild(docLink);\n",
              "      }\n",
              "    </script>\n",
              "  </div>\n",
              "\n",
              "\n",
              "<div id=\"df-f10cbd3f-d7d0-47b7-8946-4f3ad6d8d215\">\n",
              "  <button class=\"colab-df-quickchart\" onclick=\"quickchart('df-f10cbd3f-d7d0-47b7-8946-4f3ad6d8d215')\"\n",
              "            title=\"Suggest charts\"\n",
              "            style=\"display:none;\">\n",
              "\n",
              "<svg xmlns=\"http://www.w3.org/2000/svg\" height=\"24px\"viewBox=\"0 0 24 24\"\n",
              "     width=\"24px\">\n",
              "    <g>\n",
              "        <path d=\"M19 3H5c-1.1 0-2 .9-2 2v14c0 1.1.9 2 2 2h14c1.1 0 2-.9 2-2V5c0-1.1-.9-2-2-2zM9 17H7v-7h2v7zm4 0h-2V7h2v10zm4 0h-2v-4h2v4z\"/>\n",
              "    </g>\n",
              "</svg>\n",
              "  </button>\n",
              "\n",
              "<style>\n",
              "  .colab-df-quickchart {\n",
              "      --bg-color: #E8F0FE;\n",
              "      --fill-color: #1967D2;\n",
              "      --hover-bg-color: #E2EBFA;\n",
              "      --hover-fill-color: #174EA6;\n",
              "      --disabled-fill-color: #AAA;\n",
              "      --disabled-bg-color: #DDD;\n",
              "  }\n",
              "\n",
              "  [theme=dark] .colab-df-quickchart {\n",
              "      --bg-color: #3B4455;\n",
              "      --fill-color: #D2E3FC;\n",
              "      --hover-bg-color: #434B5C;\n",
              "      --hover-fill-color: #FFFFFF;\n",
              "      --disabled-bg-color: #3B4455;\n",
              "      --disabled-fill-color: #666;\n",
              "  }\n",
              "\n",
              "  .colab-df-quickchart {\n",
              "    background-color: var(--bg-color);\n",
              "    border: none;\n",
              "    border-radius: 50%;\n",
              "    cursor: pointer;\n",
              "    display: none;\n",
              "    fill: var(--fill-color);\n",
              "    height: 32px;\n",
              "    padding: 0;\n",
              "    width: 32px;\n",
              "  }\n",
              "\n",
              "  .colab-df-quickchart:hover {\n",
              "    background-color: var(--hover-bg-color);\n",
              "    box-shadow: 0 1px 2px rgba(60, 64, 67, 0.3), 0 1px 3px 1px rgba(60, 64, 67, 0.15);\n",
              "    fill: var(--button-hover-fill-color);\n",
              "  }\n",
              "\n",
              "  .colab-df-quickchart-complete:disabled,\n",
              "  .colab-df-quickchart-complete:disabled:hover {\n",
              "    background-color: var(--disabled-bg-color);\n",
              "    fill: var(--disabled-fill-color);\n",
              "    box-shadow: none;\n",
              "  }\n",
              "\n",
              "  .colab-df-spinner {\n",
              "    border: 2px solid var(--fill-color);\n",
              "    border-color: transparent;\n",
              "    border-bottom-color: var(--fill-color);\n",
              "    animation:\n",
              "      spin 1s steps(1) infinite;\n",
              "  }\n",
              "\n",
              "  @keyframes spin {\n",
              "    0% {\n",
              "      border-color: transparent;\n",
              "      border-bottom-color: var(--fill-color);\n",
              "      border-left-color: var(--fill-color);\n",
              "    }\n",
              "    20% {\n",
              "      border-color: transparent;\n",
              "      border-left-color: var(--fill-color);\n",
              "      border-top-color: var(--fill-color);\n",
              "    }\n",
              "    30% {\n",
              "      border-color: transparent;\n",
              "      border-left-color: var(--fill-color);\n",
              "      border-top-color: var(--fill-color);\n",
              "      border-right-color: var(--fill-color);\n",
              "    }\n",
              "    40% {\n",
              "      border-color: transparent;\n",
              "      border-right-color: var(--fill-color);\n",
              "      border-top-color: var(--fill-color);\n",
              "    }\n",
              "    60% {\n",
              "      border-color: transparent;\n",
              "      border-right-color: var(--fill-color);\n",
              "    }\n",
              "    80% {\n",
              "      border-color: transparent;\n",
              "      border-right-color: var(--fill-color);\n",
              "      border-bottom-color: var(--fill-color);\n",
              "    }\n",
              "    90% {\n",
              "      border-color: transparent;\n",
              "      border-bottom-color: var(--fill-color);\n",
              "    }\n",
              "  }\n",
              "</style>\n",
              "\n",
              "  <script>\n",
              "    async function quickchart(key) {\n",
              "      const quickchartButtonEl =\n",
              "        document.querySelector('#' + key + ' button');\n",
              "      quickchartButtonEl.disabled = true;  // To prevent multiple clicks.\n",
              "      quickchartButtonEl.classList.add('colab-df-spinner');\n",
              "      try {\n",
              "        const charts = await google.colab.kernel.invokeFunction(\n",
              "            'suggestCharts', [key], {});\n",
              "      } catch (error) {\n",
              "        console.error('Error during call to suggestCharts:', error);\n",
              "      }\n",
              "      quickchartButtonEl.classList.remove('colab-df-spinner');\n",
              "      quickchartButtonEl.classList.add('colab-df-quickchart-complete');\n",
              "    }\n",
              "    (() => {\n",
              "      let quickchartButtonEl =\n",
              "        document.querySelector('#df-f10cbd3f-d7d0-47b7-8946-4f3ad6d8d215 button');\n",
              "      quickchartButtonEl.style.display =\n",
              "        google.colab.kernel.accessAllowed ? 'block' : 'none';\n",
              "    })();\n",
              "  </script>\n",
              "</div>\n",
              "\n",
              "    </div>\n",
              "  </div>\n"
            ],
            "application/vnd.google.colaboratory.intrinsic+json": {
              "type": "dataframe",
              "variable_name": "data",
              "summary": "{\n  \"name\": \"data\",\n  \"rows\": 413,\n  \"fields\": [\n    {\n      \"column\": \"Artist\",\n      \"properties\": {\n        \"dtype\": \"category\",\n        \"num_unique_values\": 115,\n        \"samples\": [\n          \"Playboi Carti\",\n          \"Nicki Minaj\",\n          \"NEIKED\"\n        ],\n        \"semantic_type\": \"\",\n        \"description\": \"\"\n      }\n    },\n    {\n      \"column\": \"Track Name\",\n      \"properties\": {\n        \"dtype\": \"string\",\n        \"num_unique_values\": 412,\n        \"samples\": [\n          \"Shoota (feat. Lil Uzi Vert)\",\n          \"PUFFIN ON ZOOTIEZ\",\n          \"ROCKSTAR (feat. Roddy Ricch)\"\n        ],\n        \"semantic_type\": \"\",\n        \"description\": \"\"\n      }\n    },\n    {\n      \"column\": \"Popularity\",\n      \"properties\": {\n        \"dtype\": \"number\",\n        \"std\": 9,\n        \"min\": 29,\n        \"max\": 97,\n        \"num_unique_values\": 51,\n        \"samples\": [\n          35,\n          54,\n          52\n        ],\n        \"semantic_type\": \"\",\n        \"description\": \"\"\n      }\n    },\n    {\n      \"column\": \"Duration (ms)\",\n      \"properties\": {\n        \"dtype\": \"number\",\n        \"std\": 53980,\n        \"min\": 81666,\n        \"max\": 501648,\n        \"num_unique_values\": 410,\n        \"samples\": [\n          203894,\n          225905,\n          213593\n        ],\n        \"semantic_type\": \"\",\n        \"description\": \"\"\n      }\n    },\n    {\n      \"column\": \"Track ID\",\n      \"properties\": {\n        \"dtype\": \"string\",\n        \"num_unique_values\": 413,\n        \"samples\": [\n          \"50ceCGZ3oD3U5caQV5bP6f\",\n          \"4LwOrnuxJwR7C5Sw4liY4Z\",\n          \"1c7MITQmNJTrvfbDSzWT6x\"\n        ],\n        \"semantic_type\": \"\",\n        \"description\": \"\"\n      }\n    }\n  ]\n}"
            }
          },
          "metadata": {},
          "execution_count": 38
        }
      ]
    },
    {
      "cell_type": "code",
      "source": [
        "# To print the column names present in the dataset.\n",
        "data.columns"
      ],
      "metadata": {
        "id": "lAzelN59Wk_d",
        "outputId": "b14d8e20-8169-4541-d402-77bfd94f2207",
        "colab": {
          "base_uri": "https://localhost:8080/"
        }
      },
      "execution_count": null,
      "outputs": [
        {
          "output_type": "execute_result",
          "data": {
            "text/plain": [
              "Index(['Artist', 'Track Name', 'Popularity', 'Duration (ms)', 'Track ID'], dtype='object')"
            ]
          },
          "metadata": {},
          "execution_count": 39
        }
      ]
    },
    {
      "cell_type": "code",
      "source": [
        "# Gives the a concise summary of a DataFrame.\n",
        "data.info()\n"
      ],
      "metadata": {
        "id": "YW2b-r6HWudu",
        "outputId": "44b1e8e8-06af-4c7f-b082-28755926f91f",
        "colab": {
          "base_uri": "https://localhost:8080/"
        }
      },
      "execution_count": null,
      "outputs": [
        {
          "output_type": "stream",
          "name": "stdout",
          "text": [
            "<class 'pandas.core.frame.DataFrame'>\n",
            "Index: 413 entries, 0 to 438\n",
            "Data columns (total 5 columns):\n",
            " #   Column         Non-Null Count  Dtype \n",
            "---  ------         --------------  ----- \n",
            " 0   Artist         413 non-null    object\n",
            " 1   Track Name     413 non-null    object\n",
            " 2   Popularity     413 non-null    int64 \n",
            " 3   Duration (ms)  413 non-null    int64 \n",
            " 4   Track ID       413 non-null    object\n",
            "dtypes: int64(2), object(3)\n",
            "memory usage: 19.4+ KB\n"
          ]
        }
      ]
    },
    {
      "cell_type": "code",
      "source": [
        "# Prints the shape i.e. the row size by column size of the dataset\n",
        "data.shape"
      ],
      "metadata": {
        "id": "tzvJFGU2W2hh",
        "outputId": "04ad6c7c-99e2-4451-e523-941f93043495",
        "colab": {
          "base_uri": "https://localhost:8080/"
        }
      },
      "execution_count": null,
      "outputs": [
        {
          "output_type": "execute_result",
          "data": {
            "text/plain": [
              "(413, 5)"
            ]
          },
          "metadata": {},
          "execution_count": 41
        }
      ]
    },
    {
      "cell_type": "code",
      "source": [
        "# Gives the details on the datatype present in each column\n",
        "data.dtypes"
      ],
      "metadata": {
        "id": "hsVFyJhIXBaF",
        "outputId": "745c777e-1da2-461a-8aa8-f182ac0874d7",
        "colab": {
          "base_uri": "https://localhost:8080/"
        }
      },
      "execution_count": null,
      "outputs": [
        {
          "output_type": "execute_result",
          "data": {
            "text/plain": [
              "Artist           object\n",
              "Track Name       object\n",
              "Popularity        int64\n",
              "Duration (ms)     int64\n",
              "Track ID         object\n",
              "dtype: object"
            ]
          },
          "metadata": {},
          "execution_count": 42
        }
      ]
    },
    {
      "cell_type": "code",
      "source": [
        "# Gives the overall info of the dataframe object\n",
        "data.describe()"
      ],
      "metadata": {
        "id": "Cz5Kl4gZXGyT",
        "outputId": "9685889d-b8bf-41ec-e659-e35559b790ea",
        "colab": {
          "base_uri": "https://localhost:8080/",
          "height": 300
        }
      },
      "execution_count": null,
      "outputs": [
        {
          "output_type": "execute_result",
          "data": {
            "text/plain": [
              "       Popularity  Duration (ms)\n",
              "count  413.000000     413.000000\n",
              "mean    75.384988  206358.496368\n",
              "std      9.789010   53980.643666\n",
              "min     29.000000   81666.000000\n",
              "25%     70.000000  172185.000000\n",
              "50%     76.000000  201480.000000\n",
              "75%     82.000000  235093.000000\n",
              "max     97.000000  501648.000000"
            ],
            "text/html": [
              "\n",
              "  <div id=\"df-85da8901-5fa0-48e9-9628-c44805679012\" class=\"colab-df-container\">\n",
              "    <div>\n",
              "<style scoped>\n",
              "    .dataframe tbody tr th:only-of-type {\n",
              "        vertical-align: middle;\n",
              "    }\n",
              "\n",
              "    .dataframe tbody tr th {\n",
              "        vertical-align: top;\n",
              "    }\n",
              "\n",
              "    .dataframe thead th {\n",
              "        text-align: right;\n",
              "    }\n",
              "</style>\n",
              "<table border=\"1\" class=\"dataframe\">\n",
              "  <thead>\n",
              "    <tr style=\"text-align: right;\">\n",
              "      <th></th>\n",
              "      <th>Popularity</th>\n",
              "      <th>Duration (ms)</th>\n",
              "    </tr>\n",
              "  </thead>\n",
              "  <tbody>\n",
              "    <tr>\n",
              "      <th>count</th>\n",
              "      <td>413.000000</td>\n",
              "      <td>413.000000</td>\n",
              "    </tr>\n",
              "    <tr>\n",
              "      <th>mean</th>\n",
              "      <td>75.384988</td>\n",
              "      <td>206358.496368</td>\n",
              "    </tr>\n",
              "    <tr>\n",
              "      <th>std</th>\n",
              "      <td>9.789010</td>\n",
              "      <td>53980.643666</td>\n",
              "    </tr>\n",
              "    <tr>\n",
              "      <th>min</th>\n",
              "      <td>29.000000</td>\n",
              "      <td>81666.000000</td>\n",
              "    </tr>\n",
              "    <tr>\n",
              "      <th>25%</th>\n",
              "      <td>70.000000</td>\n",
              "      <td>172185.000000</td>\n",
              "    </tr>\n",
              "    <tr>\n",
              "      <th>50%</th>\n",
              "      <td>76.000000</td>\n",
              "      <td>201480.000000</td>\n",
              "    </tr>\n",
              "    <tr>\n",
              "      <th>75%</th>\n",
              "      <td>82.000000</td>\n",
              "      <td>235093.000000</td>\n",
              "    </tr>\n",
              "    <tr>\n",
              "      <th>max</th>\n",
              "      <td>97.000000</td>\n",
              "      <td>501648.000000</td>\n",
              "    </tr>\n",
              "  </tbody>\n",
              "</table>\n",
              "</div>\n",
              "    <div class=\"colab-df-buttons\">\n",
              "\n",
              "  <div class=\"colab-df-container\">\n",
              "    <button class=\"colab-df-convert\" onclick=\"convertToInteractive('df-85da8901-5fa0-48e9-9628-c44805679012')\"\n",
              "            title=\"Convert this dataframe to an interactive table.\"\n",
              "            style=\"display:none;\">\n",
              "\n",
              "  <svg xmlns=\"http://www.w3.org/2000/svg\" height=\"24px\" viewBox=\"0 -960 960 960\">\n",
              "    <path d=\"M120-120v-720h720v720H120Zm60-500h600v-160H180v160Zm220 220h160v-160H400v160Zm0 220h160v-160H400v160ZM180-400h160v-160H180v160Zm440 0h160v-160H620v160ZM180-180h160v-160H180v160Zm440 0h160v-160H620v160Z\"/>\n",
              "  </svg>\n",
              "    </button>\n",
              "\n",
              "  <style>\n",
              "    .colab-df-container {\n",
              "      display:flex;\n",
              "      gap: 12px;\n",
              "    }\n",
              "\n",
              "    .colab-df-convert {\n",
              "      background-color: #E8F0FE;\n",
              "      border: none;\n",
              "      border-radius: 50%;\n",
              "      cursor: pointer;\n",
              "      display: none;\n",
              "      fill: #1967D2;\n",
              "      height: 32px;\n",
              "      padding: 0 0 0 0;\n",
              "      width: 32px;\n",
              "    }\n",
              "\n",
              "    .colab-df-convert:hover {\n",
              "      background-color: #E2EBFA;\n",
              "      box-shadow: 0px 1px 2px rgba(60, 64, 67, 0.3), 0px 1px 3px 1px rgba(60, 64, 67, 0.15);\n",
              "      fill: #174EA6;\n",
              "    }\n",
              "\n",
              "    .colab-df-buttons div {\n",
              "      margin-bottom: 4px;\n",
              "    }\n",
              "\n",
              "    [theme=dark] .colab-df-convert {\n",
              "      background-color: #3B4455;\n",
              "      fill: #D2E3FC;\n",
              "    }\n",
              "\n",
              "    [theme=dark] .colab-df-convert:hover {\n",
              "      background-color: #434B5C;\n",
              "      box-shadow: 0px 1px 3px 1px rgba(0, 0, 0, 0.15);\n",
              "      filter: drop-shadow(0px 1px 2px rgba(0, 0, 0, 0.3));\n",
              "      fill: #FFFFFF;\n",
              "    }\n",
              "  </style>\n",
              "\n",
              "    <script>\n",
              "      const buttonEl =\n",
              "        document.querySelector('#df-85da8901-5fa0-48e9-9628-c44805679012 button.colab-df-convert');\n",
              "      buttonEl.style.display =\n",
              "        google.colab.kernel.accessAllowed ? 'block' : 'none';\n",
              "\n",
              "      async function convertToInteractive(key) {\n",
              "        const element = document.querySelector('#df-85da8901-5fa0-48e9-9628-c44805679012');\n",
              "        const dataTable =\n",
              "          await google.colab.kernel.invokeFunction('convertToInteractive',\n",
              "                                                    [key], {});\n",
              "        if (!dataTable) return;\n",
              "\n",
              "        const docLinkHtml = 'Like what you see? Visit the ' +\n",
              "          '<a target=\"_blank\" href=https://colab.research.google.com/notebooks/data_table.ipynb>data table notebook</a>'\n",
              "          + ' to learn more about interactive tables.';\n",
              "        element.innerHTML = '';\n",
              "        dataTable['output_type'] = 'display_data';\n",
              "        await google.colab.output.renderOutput(dataTable, element);\n",
              "        const docLink = document.createElement('div');\n",
              "        docLink.innerHTML = docLinkHtml;\n",
              "        element.appendChild(docLink);\n",
              "      }\n",
              "    </script>\n",
              "  </div>\n",
              "\n",
              "\n",
              "<div id=\"df-07fc7219-38e4-4575-a762-2ec18fc275cd\">\n",
              "  <button class=\"colab-df-quickchart\" onclick=\"quickchart('df-07fc7219-38e4-4575-a762-2ec18fc275cd')\"\n",
              "            title=\"Suggest charts\"\n",
              "            style=\"display:none;\">\n",
              "\n",
              "<svg xmlns=\"http://www.w3.org/2000/svg\" height=\"24px\"viewBox=\"0 0 24 24\"\n",
              "     width=\"24px\">\n",
              "    <g>\n",
              "        <path d=\"M19 3H5c-1.1 0-2 .9-2 2v14c0 1.1.9 2 2 2h14c1.1 0 2-.9 2-2V5c0-1.1-.9-2-2-2zM9 17H7v-7h2v7zm4 0h-2V7h2v10zm4 0h-2v-4h2v4z\"/>\n",
              "    </g>\n",
              "</svg>\n",
              "  </button>\n",
              "\n",
              "<style>\n",
              "  .colab-df-quickchart {\n",
              "      --bg-color: #E8F0FE;\n",
              "      --fill-color: #1967D2;\n",
              "      --hover-bg-color: #E2EBFA;\n",
              "      --hover-fill-color: #174EA6;\n",
              "      --disabled-fill-color: #AAA;\n",
              "      --disabled-bg-color: #DDD;\n",
              "  }\n",
              "\n",
              "  [theme=dark] .colab-df-quickchart {\n",
              "      --bg-color: #3B4455;\n",
              "      --fill-color: #D2E3FC;\n",
              "      --hover-bg-color: #434B5C;\n",
              "      --hover-fill-color: #FFFFFF;\n",
              "      --disabled-bg-color: #3B4455;\n",
              "      --disabled-fill-color: #666;\n",
              "  }\n",
              "\n",
              "  .colab-df-quickchart {\n",
              "    background-color: var(--bg-color);\n",
              "    border: none;\n",
              "    border-radius: 50%;\n",
              "    cursor: pointer;\n",
              "    display: none;\n",
              "    fill: var(--fill-color);\n",
              "    height: 32px;\n",
              "    padding: 0;\n",
              "    width: 32px;\n",
              "  }\n",
              "\n",
              "  .colab-df-quickchart:hover {\n",
              "    background-color: var(--hover-bg-color);\n",
              "    box-shadow: 0 1px 2px rgba(60, 64, 67, 0.3), 0 1px 3px 1px rgba(60, 64, 67, 0.15);\n",
              "    fill: var(--button-hover-fill-color);\n",
              "  }\n",
              "\n",
              "  .colab-df-quickchart-complete:disabled,\n",
              "  .colab-df-quickchart-complete:disabled:hover {\n",
              "    background-color: var(--disabled-bg-color);\n",
              "    fill: var(--disabled-fill-color);\n",
              "    box-shadow: none;\n",
              "  }\n",
              "\n",
              "  .colab-df-spinner {\n",
              "    border: 2px solid var(--fill-color);\n",
              "    border-color: transparent;\n",
              "    border-bottom-color: var(--fill-color);\n",
              "    animation:\n",
              "      spin 1s steps(1) infinite;\n",
              "  }\n",
              "\n",
              "  @keyframes spin {\n",
              "    0% {\n",
              "      border-color: transparent;\n",
              "      border-bottom-color: var(--fill-color);\n",
              "      border-left-color: var(--fill-color);\n",
              "    }\n",
              "    20% {\n",
              "      border-color: transparent;\n",
              "      border-left-color: var(--fill-color);\n",
              "      border-top-color: var(--fill-color);\n",
              "    }\n",
              "    30% {\n",
              "      border-color: transparent;\n",
              "      border-left-color: var(--fill-color);\n",
              "      border-top-color: var(--fill-color);\n",
              "      border-right-color: var(--fill-color);\n",
              "    }\n",
              "    40% {\n",
              "      border-color: transparent;\n",
              "      border-right-color: var(--fill-color);\n",
              "      border-top-color: var(--fill-color);\n",
              "    }\n",
              "    60% {\n",
              "      border-color: transparent;\n",
              "      border-right-color: var(--fill-color);\n",
              "    }\n",
              "    80% {\n",
              "      border-color: transparent;\n",
              "      border-right-color: var(--fill-color);\n",
              "      border-bottom-color: var(--fill-color);\n",
              "    }\n",
              "    90% {\n",
              "      border-color: transparent;\n",
              "      border-bottom-color: var(--fill-color);\n",
              "    }\n",
              "  }\n",
              "</style>\n",
              "\n",
              "  <script>\n",
              "    async function quickchart(key) {\n",
              "      const quickchartButtonEl =\n",
              "        document.querySelector('#' + key + ' button');\n",
              "      quickchartButtonEl.disabled = true;  // To prevent multiple clicks.\n",
              "      quickchartButtonEl.classList.add('colab-df-spinner');\n",
              "      try {\n",
              "        const charts = await google.colab.kernel.invokeFunction(\n",
              "            'suggestCharts', [key], {});\n",
              "      } catch (error) {\n",
              "        console.error('Error during call to suggestCharts:', error);\n",
              "      }\n",
              "      quickchartButtonEl.classList.remove('colab-df-spinner');\n",
              "      quickchartButtonEl.classList.add('colab-df-quickchart-complete');\n",
              "    }\n",
              "    (() => {\n",
              "      let quickchartButtonEl =\n",
              "        document.querySelector('#df-07fc7219-38e4-4575-a762-2ec18fc275cd button');\n",
              "      quickchartButtonEl.style.display =\n",
              "        google.colab.kernel.accessAllowed ? 'block' : 'none';\n",
              "    })();\n",
              "  </script>\n",
              "</div>\n",
              "\n",
              "    </div>\n",
              "  </div>\n"
            ],
            "application/vnd.google.colaboratory.intrinsic+json": {
              "type": "dataframe",
              "summary": "{\n  \"name\": \"data\",\n  \"rows\": 8,\n  \"fields\": [\n    {\n      \"column\": \"Popularity\",\n      \"properties\": {\n        \"dtype\": \"number\",\n        \"std\": 127.1796567819035,\n        \"min\": 9.789010447740342,\n        \"max\": 413.0,\n        \"num_unique_values\": 8,\n        \"samples\": [\n          75.38498789346247,\n          76.0,\n          413.0\n        ],\n        \"semantic_type\": \"\",\n        \"description\": \"\"\n      }\n    },\n    {\n      \"column\": \"Duration (ms)\",\n      \"properties\": {\n        \"dtype\": \"number\",\n        \"std\": 153758.29663268436,\n        \"min\": 413.0,\n        \"max\": 501648.0,\n        \"num_unique_values\": 8,\n        \"samples\": [\n          206358.49636803873,\n          201480.0,\n          413.0\n        ],\n        \"semantic_type\": \"\",\n        \"description\": \"\"\n      }\n    }\n  ]\n}"
            }
          },
          "metadata": {},
          "execution_count": 43
        }
      ]
    },
    {
      "cell_type": "markdown",
      "source": [
        "Step 4: Data Cleaning (Filteration)"
      ],
      "metadata": {
        "id": "KBkPqRfhXOpj"
      }
    },
    {
      "cell_type": "code",
      "source": [
        "# Shows the number of rows in a particular column. Useful for finding missing values.\n",
        "data.count()\n"
      ],
      "metadata": {
        "id": "i50ck9mEXQDT",
        "outputId": "00fe62c0-dfa1-4f1a-bddb-5b5ea3eca02b",
        "colab": {
          "base_uri": "https://localhost:8080/"
        }
      },
      "execution_count": null,
      "outputs": [
        {
          "output_type": "execute_result",
          "data": {
            "text/plain": [
              "Artist           413\n",
              "Track Name       413\n",
              "Popularity       413\n",
              "Duration (ms)    413\n",
              "Track ID         413\n",
              "dtype: int64"
            ]
          },
          "metadata": {},
          "execution_count": 44
        }
      ]
    },
    {
      "cell_type": "code",
      "source": [
        "# To get the values from the dataset\n",
        "data.value_counts()"
      ],
      "metadata": {
        "id": "1Am6IXANXZhj",
        "outputId": "59e2eaeb-d95a-4628-b69d-d7f4997211b0",
        "colab": {
          "base_uri": "https://localhost:8080/"
        }
      },
      "execution_count": null,
      "outputs": [
        {
          "output_type": "execute_result",
          "data": {
            "text/plain": [
              "Artist            Track Name                                                                                                  Popularity  Duration (ms)  Track ID              \n",
              "*NSYNC            Better Place (Reunion)                                                                                      67          135426         5GJaRoYtOiXUpPVT0jyNNq    1\n",
              "Lyrical Lemonade  Stop Giving Me Advice (with Jack Harlow & Dave)                                                             66          242453         12UgxYOGvFcuFlIf95vEGr    1\n",
              "Metro Boomin      Self Love (Spider-Man: Across the Spider-Verse) (Metro Boomin & Coi Leray)                                  77          189466         0AAMnNeIc6CdnfNU85GwCH    1\n",
              "                  Creepin' (with The Weeknd & 21 Savage)                                                                      90          221520         2dHHgzDwk4BJdRwy9uXhTO    1\n",
              "                  Calling (Spider-Man: Across the Spider-Verse) (Metro Boomin & Swae Lee, NAV, feat. A Boogie Wit da Hoodie)  79          219453         5rurggqwwudn9clMdcchxT    1\n",
              "                                                                                                                                                                                  ..\n",
              "Future            PUFFIN ON ZOOTIEZ                                                                                           81          172933         1qMMYpVatbRITKCfq1gasi    1\n",
              "                  Mask Off                                                                                                    83          204600         0VgkVdmE4gld66l8iyGjgx    1\n",
              "                  Low Life (feat. The Weeknd)                                                                                 84          313546         7EiZI6JVHllARrX9PUvAdX    1\n",
              "                  Life Is Good (feat. Drake)                                                                                  75          237918         1K5KBOgreBi5fkEHvg5ap3    1\n",
              "Â¥$               VULTURES                                                                                                    80          276986         3SIRBp4RRQ2AO5H4NO7xfq    1\n",
              "Name: count, Length: 413, dtype: int64"
            ]
          },
          "metadata": {},
          "execution_count": 45
        }
      ]
    },
    {
      "cell_type": "code",
      "source": [
        "# Gives the unique values present in the specified column\n",
        "data['Artist'].unique()"
      ],
      "metadata": {
        "id": "m39TMEcOXjA1",
        "outputId": "2fda41b4-ce9b-4d5e-bd1f-60543486c74f",
        "colab": {
          "base_uri": "https://localhost:8080/"
        }
      },
      "execution_count": null,
      "outputs": [
        {
          "output_type": "execute_result",
          "data": {
            "text/plain": [
              "array(['Drake', 'Travis Scott', 'Post Malone', 'Noah Kahan',\n",
              "       'Nicki Minaj', 'Justin Bieber', 'Jessie J', 'KAROL G', '21 Savage',\n",
              "       'Metro Boomin', 'SZA', 'Jack Harlow', 'Jung Kook', 'Lil Nas X',\n",
              "       'Lyrical Lemonade', 'Future', 'Don Toliver', 'Lil Wayne', 'Yeat',\n",
              "       'Eminem', 'Kendrick Lamar', 'Baby Keem', 'The Weeknd', 'JAY-Z',\n",
              "       'Cardi B', 'Bruno Mars', 'Ed Sheeran', 'GloRilla', 'Gunna',\n",
              "       'Lil Baby', 'Internet Money', 'Sarz', 'J. Cole', 'Lil Durk',\n",
              "       'cassÃ¶', 'D-Block Europe', 'Clavish', 'Latto', 'Young Nudy',\n",
              "       'Megan Thee Stallion', 'NEIKED', 'Snoop Dogg', 'Dr. Dre',\n",
              "       'benny blanco', 'Young Thug', 'Chris Brown', 'Dave', 'Central Cee',\n",
              "       'The Kid LAROI', 'Quevedo', 'Bizarrap', 'Anuel AA', 'SAIKO',\n",
              "       'David Guetta', 'Coi Leray', 'Pressa', 'Fivio Foreign', 'RAYE',\n",
              "       'French Montana', 'Arizona Zervas', 'Pharrell Williams',\n",
              "       'XXXTENTACION', 'Kane Brown', 'Ellie Goulding', 'ReneÃ© Rapp',\n",
              "       'Maroon 5', 'DJ Snake', 'Quavo', 'DJ Khaled', 'ATL Jacob',\n",
              "       'Jason Derulo', 'Kanye West', 'Trueno', 'Rauw Alejandro',\n",
              "       'Dua Lipa', 'DaBaby', 'Quality Control', 'That Mexican OT', 'Â¥$',\n",
              "       'Nardo Wick', 'Only The Family', 'Playboi Carti', 'Flo Rida',\n",
              "       'Tyga', 'Oscar Maydon', 'Blxst', 'Doja Cat', 'Juice WRLD',\n",
              "       'Lil Uzi Vert', 'Wiz Khalifa', '2 Chainz', 'Ice Spice',\n",
              "       'PinkPantheress', 'Taylor Swift', 'Justin Timberlake',\n",
              "       'Leslie Odom Jr.', 'Lin-Manuel Miranda', 'Camila Cabello',\n",
              "       '*NSYNC', 'Ludacris', 'Timbaland', 'Gucci Mane',\n",
              "       'A Boogie Wit da Hoodie', 'Kodak Black', 'Lil Tecca', 'Fugees',\n",
              "       'Wyclef Jean', 'Rick Ross', 'Skrillex', 'Offset', 'Lil Tjay',\n",
              "       'BigXthaPlug', 'Fat Joe', 'A$AP Ferg', 'Diddy'], dtype=object)"
            ]
          },
          "metadata": {},
          "execution_count": 46
        }
      ]
    },
    {
      "cell_type": "code",
      "source": [
        "# To remove all null values if present in the dataset\n",
        "data.dropna()\n"
      ],
      "metadata": {
        "id": "O3KneOihXr-D",
        "outputId": "324c0864-80f1-4940-e950-80136584b179",
        "colab": {
          "base_uri": "https://localhost:8080/",
          "height": 475
        }
      },
      "execution_count": null,
      "outputs": [
        {
          "output_type": "execute_result",
          "data": {
            "text/plain": [
              "             Artist                                         Track Name  \\\n",
              "0             Drake            Rich Baby Daddy (feat. Sexyy Red & SZA)   \n",
              "1             Drake                                          One Dance   \n",
              "2             Drake                                 IDGAF (feat. Yeat)   \n",
              "3             Drake               First Person Shooter (feat. J. Cole)   \n",
              "4             Drake                      Jimmy Cooks (feat. 21 Savage)   \n",
              "..              ...                                                ...   \n",
              "433  French Montana                                       Stand United   \n",
              "434    Jason Derulo                     Tip Toe (feat. French Montana)   \n",
              "436         Fat Joe                     All The Way Up (feat. Infared)   \n",
              "437       A$AP Ferg  Work REMIX (feat. A$AP Rocky, French Montana, ...   \n",
              "438           Diddy                Another One Of Me (feat. 21 Savage)   \n",
              "\n",
              "     Popularity  Duration (ms)                Track ID  \n",
              "0            92         319191  1yeB8MUNeLo9Ek1UEpsyz6  \n",
              "1            91         173986  1zi7xx7UVEFkmKfv06H8x0  \n",
              "2            90         260111  2YSzYUF3jWqb9YP9VXmpjE  \n",
              "3            88         247444  7aqfrAY2p9BUSiupwk3svU  \n",
              "4            88         218364  3F5CgOj3wFlRv51JsHbxhe  \n",
              "..          ...            ...                     ...  \n",
              "433          54         163971  01CHrTerCzyRpMI1MzQ4fz  \n",
              "434          65         187521  0TY3jVGwGDwDabLyQLVRQQ  \n",
              "436          64         191900  7Ezwtgfw7khBrpvaNPtMoT  \n",
              "437          69         283693  7xVLFuuYdAvcTfcP3IG3dS  \n",
              "438          65         220408  4hGmQboiou09EwhcTWa0H6  \n",
              "\n",
              "[413 rows x 5 columns]"
            ],
            "text/html": [
              "\n",
              "  <div id=\"df-1b2d4773-c4c8-4265-a797-ea71f70ab4b7\" class=\"colab-df-container\">\n",
              "    <div>\n",
              "<style scoped>\n",
              "    .dataframe tbody tr th:only-of-type {\n",
              "        vertical-align: middle;\n",
              "    }\n",
              "\n",
              "    .dataframe tbody tr th {\n",
              "        vertical-align: top;\n",
              "    }\n",
              "\n",
              "    .dataframe thead th {\n",
              "        text-align: right;\n",
              "    }\n",
              "</style>\n",
              "<table border=\"1\" class=\"dataframe\">\n",
              "  <thead>\n",
              "    <tr style=\"text-align: right;\">\n",
              "      <th></th>\n",
              "      <th>Artist</th>\n",
              "      <th>Track Name</th>\n",
              "      <th>Popularity</th>\n",
              "      <th>Duration (ms)</th>\n",
              "      <th>Track ID</th>\n",
              "    </tr>\n",
              "  </thead>\n",
              "  <tbody>\n",
              "    <tr>\n",
              "      <th>0</th>\n",
              "      <td>Drake</td>\n",
              "      <td>Rich Baby Daddy (feat. Sexyy Red &amp; SZA)</td>\n",
              "      <td>92</td>\n",
              "      <td>319191</td>\n",
              "      <td>1yeB8MUNeLo9Ek1UEpsyz6</td>\n",
              "    </tr>\n",
              "    <tr>\n",
              "      <th>1</th>\n",
              "      <td>Drake</td>\n",
              "      <td>One Dance</td>\n",
              "      <td>91</td>\n",
              "      <td>173986</td>\n",
              "      <td>1zi7xx7UVEFkmKfv06H8x0</td>\n",
              "    </tr>\n",
              "    <tr>\n",
              "      <th>2</th>\n",
              "      <td>Drake</td>\n",
              "      <td>IDGAF (feat. Yeat)</td>\n",
              "      <td>90</td>\n",
              "      <td>260111</td>\n",
              "      <td>2YSzYUF3jWqb9YP9VXmpjE</td>\n",
              "    </tr>\n",
              "    <tr>\n",
              "      <th>3</th>\n",
              "      <td>Drake</td>\n",
              "      <td>First Person Shooter (feat. J. Cole)</td>\n",
              "      <td>88</td>\n",
              "      <td>247444</td>\n",
              "      <td>7aqfrAY2p9BUSiupwk3svU</td>\n",
              "    </tr>\n",
              "    <tr>\n",
              "      <th>4</th>\n",
              "      <td>Drake</td>\n",
              "      <td>Jimmy Cooks (feat. 21 Savage)</td>\n",
              "      <td>88</td>\n",
              "      <td>218364</td>\n",
              "      <td>3F5CgOj3wFlRv51JsHbxhe</td>\n",
              "    </tr>\n",
              "    <tr>\n",
              "      <th>...</th>\n",
              "      <td>...</td>\n",
              "      <td>...</td>\n",
              "      <td>...</td>\n",
              "      <td>...</td>\n",
              "      <td>...</td>\n",
              "    </tr>\n",
              "    <tr>\n",
              "      <th>433</th>\n",
              "      <td>French Montana</td>\n",
              "      <td>Stand United</td>\n",
              "      <td>54</td>\n",
              "      <td>163971</td>\n",
              "      <td>01CHrTerCzyRpMI1MzQ4fz</td>\n",
              "    </tr>\n",
              "    <tr>\n",
              "      <th>434</th>\n",
              "      <td>Jason Derulo</td>\n",
              "      <td>Tip Toe (feat. French Montana)</td>\n",
              "      <td>65</td>\n",
              "      <td>187521</td>\n",
              "      <td>0TY3jVGwGDwDabLyQLVRQQ</td>\n",
              "    </tr>\n",
              "    <tr>\n",
              "      <th>436</th>\n",
              "      <td>Fat Joe</td>\n",
              "      <td>All The Way Up (feat. Infared)</td>\n",
              "      <td>64</td>\n",
              "      <td>191900</td>\n",
              "      <td>7Ezwtgfw7khBrpvaNPtMoT</td>\n",
              "    </tr>\n",
              "    <tr>\n",
              "      <th>437</th>\n",
              "      <td>A$AP Ferg</td>\n",
              "      <td>Work REMIX (feat. A$AP Rocky, French Montana, ...</td>\n",
              "      <td>69</td>\n",
              "      <td>283693</td>\n",
              "      <td>7xVLFuuYdAvcTfcP3IG3dS</td>\n",
              "    </tr>\n",
              "    <tr>\n",
              "      <th>438</th>\n",
              "      <td>Diddy</td>\n",
              "      <td>Another One Of Me (feat. 21 Savage)</td>\n",
              "      <td>65</td>\n",
              "      <td>220408</td>\n",
              "      <td>4hGmQboiou09EwhcTWa0H6</td>\n",
              "    </tr>\n",
              "  </tbody>\n",
              "</table>\n",
              "<p>413 rows × 5 columns</p>\n",
              "</div>\n",
              "    <div class=\"colab-df-buttons\">\n",
              "\n",
              "  <div class=\"colab-df-container\">\n",
              "    <button class=\"colab-df-convert\" onclick=\"convertToInteractive('df-1b2d4773-c4c8-4265-a797-ea71f70ab4b7')\"\n",
              "            title=\"Convert this dataframe to an interactive table.\"\n",
              "            style=\"display:none;\">\n",
              "\n",
              "  <svg xmlns=\"http://www.w3.org/2000/svg\" height=\"24px\" viewBox=\"0 -960 960 960\">\n",
              "    <path d=\"M120-120v-720h720v720H120Zm60-500h600v-160H180v160Zm220 220h160v-160H400v160Zm0 220h160v-160H400v160ZM180-400h160v-160H180v160Zm440 0h160v-160H620v160ZM180-180h160v-160H180v160Zm440 0h160v-160H620v160Z\"/>\n",
              "  </svg>\n",
              "    </button>\n",
              "\n",
              "  <style>\n",
              "    .colab-df-container {\n",
              "      display:flex;\n",
              "      gap: 12px;\n",
              "    }\n",
              "\n",
              "    .colab-df-convert {\n",
              "      background-color: #E8F0FE;\n",
              "      border: none;\n",
              "      border-radius: 50%;\n",
              "      cursor: pointer;\n",
              "      display: none;\n",
              "      fill: #1967D2;\n",
              "      height: 32px;\n",
              "      padding: 0 0 0 0;\n",
              "      width: 32px;\n",
              "    }\n",
              "\n",
              "    .colab-df-convert:hover {\n",
              "      background-color: #E2EBFA;\n",
              "      box-shadow: 0px 1px 2px rgba(60, 64, 67, 0.3), 0px 1px 3px 1px rgba(60, 64, 67, 0.15);\n",
              "      fill: #174EA6;\n",
              "    }\n",
              "\n",
              "    .colab-df-buttons div {\n",
              "      margin-bottom: 4px;\n",
              "    }\n",
              "\n",
              "    [theme=dark] .colab-df-convert {\n",
              "      background-color: #3B4455;\n",
              "      fill: #D2E3FC;\n",
              "    }\n",
              "\n",
              "    [theme=dark] .colab-df-convert:hover {\n",
              "      background-color: #434B5C;\n",
              "      box-shadow: 0px 1px 3px 1px rgba(0, 0, 0, 0.15);\n",
              "      filter: drop-shadow(0px 1px 2px rgba(0, 0, 0, 0.3));\n",
              "      fill: #FFFFFF;\n",
              "    }\n",
              "  </style>\n",
              "\n",
              "    <script>\n",
              "      const buttonEl =\n",
              "        document.querySelector('#df-1b2d4773-c4c8-4265-a797-ea71f70ab4b7 button.colab-df-convert');\n",
              "      buttonEl.style.display =\n",
              "        google.colab.kernel.accessAllowed ? 'block' : 'none';\n",
              "\n",
              "      async function convertToInteractive(key) {\n",
              "        const element = document.querySelector('#df-1b2d4773-c4c8-4265-a797-ea71f70ab4b7');\n",
              "        const dataTable =\n",
              "          await google.colab.kernel.invokeFunction('convertToInteractive',\n",
              "                                                    [key], {});\n",
              "        if (!dataTable) return;\n",
              "\n",
              "        const docLinkHtml = 'Like what you see? Visit the ' +\n",
              "          '<a target=\"_blank\" href=https://colab.research.google.com/notebooks/data_table.ipynb>data table notebook</a>'\n",
              "          + ' to learn more about interactive tables.';\n",
              "        element.innerHTML = '';\n",
              "        dataTable['output_type'] = 'display_data';\n",
              "        await google.colab.output.renderOutput(dataTable, element);\n",
              "        const docLink = document.createElement('div');\n",
              "        docLink.innerHTML = docLinkHtml;\n",
              "        element.appendChild(docLink);\n",
              "      }\n",
              "    </script>\n",
              "  </div>\n",
              "\n",
              "\n",
              "<div id=\"df-30f33948-4b29-4a82-a446-8e95fb50585a\">\n",
              "  <button class=\"colab-df-quickchart\" onclick=\"quickchart('df-30f33948-4b29-4a82-a446-8e95fb50585a')\"\n",
              "            title=\"Suggest charts\"\n",
              "            style=\"display:none;\">\n",
              "\n",
              "<svg xmlns=\"http://www.w3.org/2000/svg\" height=\"24px\"viewBox=\"0 0 24 24\"\n",
              "     width=\"24px\">\n",
              "    <g>\n",
              "        <path d=\"M19 3H5c-1.1 0-2 .9-2 2v14c0 1.1.9 2 2 2h14c1.1 0 2-.9 2-2V5c0-1.1-.9-2-2-2zM9 17H7v-7h2v7zm4 0h-2V7h2v10zm4 0h-2v-4h2v4z\"/>\n",
              "    </g>\n",
              "</svg>\n",
              "  </button>\n",
              "\n",
              "<style>\n",
              "  .colab-df-quickchart {\n",
              "      --bg-color: #E8F0FE;\n",
              "      --fill-color: #1967D2;\n",
              "      --hover-bg-color: #E2EBFA;\n",
              "      --hover-fill-color: #174EA6;\n",
              "      --disabled-fill-color: #AAA;\n",
              "      --disabled-bg-color: #DDD;\n",
              "  }\n",
              "\n",
              "  [theme=dark] .colab-df-quickchart {\n",
              "      --bg-color: #3B4455;\n",
              "      --fill-color: #D2E3FC;\n",
              "      --hover-bg-color: #434B5C;\n",
              "      --hover-fill-color: #FFFFFF;\n",
              "      --disabled-bg-color: #3B4455;\n",
              "      --disabled-fill-color: #666;\n",
              "  }\n",
              "\n",
              "  .colab-df-quickchart {\n",
              "    background-color: var(--bg-color);\n",
              "    border: none;\n",
              "    border-radius: 50%;\n",
              "    cursor: pointer;\n",
              "    display: none;\n",
              "    fill: var(--fill-color);\n",
              "    height: 32px;\n",
              "    padding: 0;\n",
              "    width: 32px;\n",
              "  }\n",
              "\n",
              "  .colab-df-quickchart:hover {\n",
              "    background-color: var(--hover-bg-color);\n",
              "    box-shadow: 0 1px 2px rgba(60, 64, 67, 0.3), 0 1px 3px 1px rgba(60, 64, 67, 0.15);\n",
              "    fill: var(--button-hover-fill-color);\n",
              "  }\n",
              "\n",
              "  .colab-df-quickchart-complete:disabled,\n",
              "  .colab-df-quickchart-complete:disabled:hover {\n",
              "    background-color: var(--disabled-bg-color);\n",
              "    fill: var(--disabled-fill-color);\n",
              "    box-shadow: none;\n",
              "  }\n",
              "\n",
              "  .colab-df-spinner {\n",
              "    border: 2px solid var(--fill-color);\n",
              "    border-color: transparent;\n",
              "    border-bottom-color: var(--fill-color);\n",
              "    animation:\n",
              "      spin 1s steps(1) infinite;\n",
              "  }\n",
              "\n",
              "  @keyframes spin {\n",
              "    0% {\n",
              "      border-color: transparent;\n",
              "      border-bottom-color: var(--fill-color);\n",
              "      border-left-color: var(--fill-color);\n",
              "    }\n",
              "    20% {\n",
              "      border-color: transparent;\n",
              "      border-left-color: var(--fill-color);\n",
              "      border-top-color: var(--fill-color);\n",
              "    }\n",
              "    30% {\n",
              "      border-color: transparent;\n",
              "      border-left-color: var(--fill-color);\n",
              "      border-top-color: var(--fill-color);\n",
              "      border-right-color: var(--fill-color);\n",
              "    }\n",
              "    40% {\n",
              "      border-color: transparent;\n",
              "      border-right-color: var(--fill-color);\n",
              "      border-top-color: var(--fill-color);\n",
              "    }\n",
              "    60% {\n",
              "      border-color: transparent;\n",
              "      border-right-color: var(--fill-color);\n",
              "    }\n",
              "    80% {\n",
              "      border-color: transparent;\n",
              "      border-right-color: var(--fill-color);\n",
              "      border-bottom-color: var(--fill-color);\n",
              "    }\n",
              "    90% {\n",
              "      border-color: transparent;\n",
              "      border-bottom-color: var(--fill-color);\n",
              "    }\n",
              "  }\n",
              "</style>\n",
              "\n",
              "  <script>\n",
              "    async function quickchart(key) {\n",
              "      const quickchartButtonEl =\n",
              "        document.querySelector('#' + key + ' button');\n",
              "      quickchartButtonEl.disabled = true;  // To prevent multiple clicks.\n",
              "      quickchartButtonEl.classList.add('colab-df-spinner');\n",
              "      try {\n",
              "        const charts = await google.colab.kernel.invokeFunction(\n",
              "            'suggestCharts', [key], {});\n",
              "      } catch (error) {\n",
              "        console.error('Error during call to suggestCharts:', error);\n",
              "      }\n",
              "      quickchartButtonEl.classList.remove('colab-df-spinner');\n",
              "      quickchartButtonEl.classList.add('colab-df-quickchart-complete');\n",
              "    }\n",
              "    (() => {\n",
              "      let quickchartButtonEl =\n",
              "        document.querySelector('#df-30f33948-4b29-4a82-a446-8e95fb50585a button');\n",
              "      quickchartButtonEl.style.display =\n",
              "        google.colab.kernel.accessAllowed ? 'block' : 'none';\n",
              "    })();\n",
              "  </script>\n",
              "</div>\n",
              "\n",
              "    </div>\n",
              "  </div>\n"
            ],
            "application/vnd.google.colaboratory.intrinsic+json": {
              "type": "dataframe",
              "summary": "{\n  \"name\": \"data\",\n  \"rows\": 413,\n  \"fields\": [\n    {\n      \"column\": \"Artist\",\n      \"properties\": {\n        \"dtype\": \"category\",\n        \"num_unique_values\": 115,\n        \"samples\": [\n          \"Playboi Carti\",\n          \"Nicki Minaj\",\n          \"NEIKED\"\n        ],\n        \"semantic_type\": \"\",\n        \"description\": \"\"\n      }\n    },\n    {\n      \"column\": \"Track Name\",\n      \"properties\": {\n        \"dtype\": \"string\",\n        \"num_unique_values\": 412,\n        \"samples\": [\n          \"Shoota (feat. Lil Uzi Vert)\",\n          \"PUFFIN ON ZOOTIEZ\",\n          \"ROCKSTAR (feat. Roddy Ricch)\"\n        ],\n        \"semantic_type\": \"\",\n        \"description\": \"\"\n      }\n    },\n    {\n      \"column\": \"Popularity\",\n      \"properties\": {\n        \"dtype\": \"number\",\n        \"std\": 9,\n        \"min\": 29,\n        \"max\": 97,\n        \"num_unique_values\": 51,\n        \"samples\": [\n          35,\n          54,\n          52\n        ],\n        \"semantic_type\": \"\",\n        \"description\": \"\"\n      }\n    },\n    {\n      \"column\": \"Duration (ms)\",\n      \"properties\": {\n        \"dtype\": \"number\",\n        \"std\": 53980,\n        \"min\": 81666,\n        \"max\": 501648,\n        \"num_unique_values\": 410,\n        \"samples\": [\n          203894,\n          225905,\n          213593\n        ],\n        \"semantic_type\": \"\",\n        \"description\": \"\"\n      }\n    },\n    {\n      \"column\": \"Track ID\",\n      \"properties\": {\n        \"dtype\": \"string\",\n        \"num_unique_values\": 413,\n        \"samples\": [\n          \"50ceCGZ3oD3U5caQV5bP6f\",\n          \"4LwOrnuxJwR7C5Sw4liY4Z\",\n          \"1c7MITQmNJTrvfbDSzWT6x\"\n        ],\n        \"semantic_type\": \"\",\n        \"description\": \"\"\n      }\n    }\n  ]\n}"
            }
          },
          "metadata": {},
          "execution_count": 47
        }
      ]
    },
    {
      "cell_type": "code",
      "source": [
        "# Replaces all instances of Null values with the Boolean value 'True'.\n",
        "data.dropna(inplace=True)"
      ],
      "metadata": {
        "id": "Jo9v17vqX1og"
      },
      "execution_count": null,
      "outputs": []
    },
    {
      "cell_type": "code",
      "source": [
        "# To check if there were any Null values that were dropped leading to a change in the shape of the Dataframe object.\n",
        "data.shape"
      ],
      "metadata": {
        "id": "wRybNdOwX43I",
        "outputId": "5777503c-83d1-4965-81f3-5f23a31269b1",
        "colab": {
          "base_uri": "https://localhost:8080/"
        }
      },
      "execution_count": null,
      "outputs": [
        {
          "output_type": "execute_result",
          "data": {
            "text/plain": [
              "(413, 5)"
            ]
          },
          "metadata": {},
          "execution_count": 49
        }
      ]
    },
    {
      "cell_type": "code",
      "source": [
        "# Prints if the values in the specified\n",
        "data['Artist'].duplicated()"
      ],
      "metadata": {
        "id": "1FbIsLhVX4vs",
        "outputId": "0d7e7467-889d-4a1f-f92f-d2197404beaf",
        "colab": {
          "base_uri": "https://localhost:8080/"
        }
      },
      "execution_count": null,
      "outputs": [
        {
          "output_type": "execute_result",
          "data": {
            "text/plain": [
              "0      False\n",
              "1       True\n",
              "2       True\n",
              "3       True\n",
              "4       True\n",
              "       ...  \n",
              "433     True\n",
              "434     True\n",
              "436    False\n",
              "437    False\n",
              "438    False\n",
              "Name: Artist, Length: 413, dtype: bool"
            ]
          },
          "metadata": {},
          "execution_count": 50
        }
      ]
    },
    {
      "cell_type": "code",
      "source": [
        "duplicate_rows = data.duplicated()\n",
        "print(duplicate_rows.sum())"
      ],
      "metadata": {
        "id": "4s3OYz9DYJ1T",
        "outputId": "51802a17-1862-4af5-fd8a-948428536c54",
        "colab": {
          "base_uri": "https://localhost:8080/"
        }
      },
      "execution_count": null,
      "outputs": [
        {
          "output_type": "stream",
          "name": "stdout",
          "text": [
            "0\n"
          ]
        }
      ]
    },
    {
      "cell_type": "markdown",
      "source": [
        "Step 5: Sorting/Searching/Validation"
      ],
      "metadata": {
        "id": "sFuMO8TAYPWn"
      }
    },
    {
      "cell_type": "code",
      "source": [
        "# Sorting Process\n",
        "\n",
        "# Print a target column\n",
        "print(data['Popularity'])"
      ],
      "metadata": {
        "id": "NJkcVeoIYYpN",
        "outputId": "8cbd68d4-2818-4d9d-fb87-f0cecc460002",
        "colab": {
          "base_uri": "https://localhost:8080/"
        }
      },
      "execution_count": null,
      "outputs": [
        {
          "output_type": "stream",
          "name": "stdout",
          "text": [
            "0      92\n",
            "1      91\n",
            "2      90\n",
            "3      88\n",
            "4      88\n",
            "       ..\n",
            "433    54\n",
            "434    65\n",
            "436    64\n",
            "437    69\n",
            "438    65\n",
            "Name: Popularity, Length: 413, dtype: int64\n"
          ]
        }
      ]
    },
    {
      "cell_type": "code",
      "source": [
        "# To sort the data in Ascending Order\n",
        "data.sort_values(by='Popularity',ascending=True)"
      ],
      "metadata": {
        "id": "4m8OHJHaYh8B",
        "outputId": "b567f3a4-7b48-413b-d08c-5318d8b052fa",
        "colab": {
          "base_uri": "https://localhost:8080/",
          "height": 423
        }
      },
      "execution_count": null,
      "outputs": [
        {
          "output_type": "execute_result",
          "data": {
            "text/plain": [
              "             Artist                               Track Name  Popularity  \\\n",
              "207          Pressa            Attachments (feat. Coi Leray)          29   \n",
              "231   Justin Bieber                               Intentions          35   \n",
              "413  French Montana                          Splash Brothers          44   \n",
              "225        Lil Baby                            On Me - Remix          47   \n",
              "407     Wyclef Jean                911 (feat. Mary J. Blige)          48   \n",
              "..              ...                                      ...         ...   \n",
              "0             Drake  Rich Baby Daddy (feat. Sexyy Red & SZA)          92   \n",
              "30     Travis Scott               FE!N (feat. Playboi Carti)          93   \n",
              "70        21 Savage                                   redrum          96   \n",
              "260             Â¥$                                 CARNIVAL          96   \n",
              "40      Jack Harlow                              Lovin On Me          97   \n",
              "\n",
              "     Duration (ms)                Track ID  \n",
              "207         171000  6EfJ8Ct3GHbBz2YlyPnMYb  \n",
              "231         212853  7jAVt70Xdg8EwOtsFB1ZqK  \n",
              "413         221863  3fBsEOnzwtlkpS0LxXAZhN  \n",
              "225         135444  2uUFVnVFERNxUdcmvEs7LB  \n",
              "407         259333  28hgx2bWXcaBJeC9zVwrBq  \n",
              "..             ...                     ...  \n",
              "0           319191  1yeB8MUNeLo9Ek1UEpsyz6  \n",
              "30          191700  42VsgItocQwOQC3XWZ8JNA  \n",
              "70          270697  52eIcoLUM25zbQupAZYoFh  \n",
              "260         264324  3w0w2T288dec0mgeZZqoNN  \n",
              "40          138411  4xhsWYTOGcal8zt0J161CU  \n",
              "\n",
              "[413 rows x 5 columns]"
            ],
            "text/html": [
              "\n",
              "  <div id=\"df-5262c93e-2343-4ac6-8c71-4ce7ab4f722f\" class=\"colab-df-container\">\n",
              "    <div>\n",
              "<style scoped>\n",
              "    .dataframe tbody tr th:only-of-type {\n",
              "        vertical-align: middle;\n",
              "    }\n",
              "\n",
              "    .dataframe tbody tr th {\n",
              "        vertical-align: top;\n",
              "    }\n",
              "\n",
              "    .dataframe thead th {\n",
              "        text-align: right;\n",
              "    }\n",
              "</style>\n",
              "<table border=\"1\" class=\"dataframe\">\n",
              "  <thead>\n",
              "    <tr style=\"text-align: right;\">\n",
              "      <th></th>\n",
              "      <th>Artist</th>\n",
              "      <th>Track Name</th>\n",
              "      <th>Popularity</th>\n",
              "      <th>Duration (ms)</th>\n",
              "      <th>Track ID</th>\n",
              "    </tr>\n",
              "  </thead>\n",
              "  <tbody>\n",
              "    <tr>\n",
              "      <th>207</th>\n",
              "      <td>Pressa</td>\n",
              "      <td>Attachments (feat. Coi Leray)</td>\n",
              "      <td>29</td>\n",
              "      <td>171000</td>\n",
              "      <td>6EfJ8Ct3GHbBz2YlyPnMYb</td>\n",
              "    </tr>\n",
              "    <tr>\n",
              "      <th>231</th>\n",
              "      <td>Justin Bieber</td>\n",
              "      <td>Intentions</td>\n",
              "      <td>35</td>\n",
              "      <td>212853</td>\n",
              "      <td>7jAVt70Xdg8EwOtsFB1ZqK</td>\n",
              "    </tr>\n",
              "    <tr>\n",
              "      <th>413</th>\n",
              "      <td>French Montana</td>\n",
              "      <td>Splash Brothers</td>\n",
              "      <td>44</td>\n",
              "      <td>221863</td>\n",
              "      <td>3fBsEOnzwtlkpS0LxXAZhN</td>\n",
              "    </tr>\n",
              "    <tr>\n",
              "      <th>225</th>\n",
              "      <td>Lil Baby</td>\n",
              "      <td>On Me - Remix</td>\n",
              "      <td>47</td>\n",
              "      <td>135444</td>\n",
              "      <td>2uUFVnVFERNxUdcmvEs7LB</td>\n",
              "    </tr>\n",
              "    <tr>\n",
              "      <th>407</th>\n",
              "      <td>Wyclef Jean</td>\n",
              "      <td>911 (feat. Mary J. Blige)</td>\n",
              "      <td>48</td>\n",
              "      <td>259333</td>\n",
              "      <td>28hgx2bWXcaBJeC9zVwrBq</td>\n",
              "    </tr>\n",
              "    <tr>\n",
              "      <th>...</th>\n",
              "      <td>...</td>\n",
              "      <td>...</td>\n",
              "      <td>...</td>\n",
              "      <td>...</td>\n",
              "      <td>...</td>\n",
              "    </tr>\n",
              "    <tr>\n",
              "      <th>0</th>\n",
              "      <td>Drake</td>\n",
              "      <td>Rich Baby Daddy (feat. Sexyy Red &amp; SZA)</td>\n",
              "      <td>92</td>\n",
              "      <td>319191</td>\n",
              "      <td>1yeB8MUNeLo9Ek1UEpsyz6</td>\n",
              "    </tr>\n",
              "    <tr>\n",
              "      <th>30</th>\n",
              "      <td>Travis Scott</td>\n",
              "      <td>FE!N (feat. Playboi Carti)</td>\n",
              "      <td>93</td>\n",
              "      <td>191700</td>\n",
              "      <td>42VsgItocQwOQC3XWZ8JNA</td>\n",
              "    </tr>\n",
              "    <tr>\n",
              "      <th>70</th>\n",
              "      <td>21 Savage</td>\n",
              "      <td>redrum</td>\n",
              "      <td>96</td>\n",
              "      <td>270697</td>\n",
              "      <td>52eIcoLUM25zbQupAZYoFh</td>\n",
              "    </tr>\n",
              "    <tr>\n",
              "      <th>260</th>\n",
              "      <td>Â¥$</td>\n",
              "      <td>CARNIVAL</td>\n",
              "      <td>96</td>\n",
              "      <td>264324</td>\n",
              "      <td>3w0w2T288dec0mgeZZqoNN</td>\n",
              "    </tr>\n",
              "    <tr>\n",
              "      <th>40</th>\n",
              "      <td>Jack Harlow</td>\n",
              "      <td>Lovin On Me</td>\n",
              "      <td>97</td>\n",
              "      <td>138411</td>\n",
              "      <td>4xhsWYTOGcal8zt0J161CU</td>\n",
              "    </tr>\n",
              "  </tbody>\n",
              "</table>\n",
              "<p>413 rows × 5 columns</p>\n",
              "</div>\n",
              "    <div class=\"colab-df-buttons\">\n",
              "\n",
              "  <div class=\"colab-df-container\">\n",
              "    <button class=\"colab-df-convert\" onclick=\"convertToInteractive('df-5262c93e-2343-4ac6-8c71-4ce7ab4f722f')\"\n",
              "            title=\"Convert this dataframe to an interactive table.\"\n",
              "            style=\"display:none;\">\n",
              "\n",
              "  <svg xmlns=\"http://www.w3.org/2000/svg\" height=\"24px\" viewBox=\"0 -960 960 960\">\n",
              "    <path d=\"M120-120v-720h720v720H120Zm60-500h600v-160H180v160Zm220 220h160v-160H400v160Zm0 220h160v-160H400v160ZM180-400h160v-160H180v160Zm440 0h160v-160H620v160ZM180-180h160v-160H180v160Zm440 0h160v-160H620v160Z\"/>\n",
              "  </svg>\n",
              "    </button>\n",
              "\n",
              "  <style>\n",
              "    .colab-df-container {\n",
              "      display:flex;\n",
              "      gap: 12px;\n",
              "    }\n",
              "\n",
              "    .colab-df-convert {\n",
              "      background-color: #E8F0FE;\n",
              "      border: none;\n",
              "      border-radius: 50%;\n",
              "      cursor: pointer;\n",
              "      display: none;\n",
              "      fill: #1967D2;\n",
              "      height: 32px;\n",
              "      padding: 0 0 0 0;\n",
              "      width: 32px;\n",
              "    }\n",
              "\n",
              "    .colab-df-convert:hover {\n",
              "      background-color: #E2EBFA;\n",
              "      box-shadow: 0px 1px 2px rgba(60, 64, 67, 0.3), 0px 1px 3px 1px rgba(60, 64, 67, 0.15);\n",
              "      fill: #174EA6;\n",
              "    }\n",
              "\n",
              "    .colab-df-buttons div {\n",
              "      margin-bottom: 4px;\n",
              "    }\n",
              "\n",
              "    [theme=dark] .colab-df-convert {\n",
              "      background-color: #3B4455;\n",
              "      fill: #D2E3FC;\n",
              "    }\n",
              "\n",
              "    [theme=dark] .colab-df-convert:hover {\n",
              "      background-color: #434B5C;\n",
              "      box-shadow: 0px 1px 3px 1px rgba(0, 0, 0, 0.15);\n",
              "      filter: drop-shadow(0px 1px 2px rgba(0, 0, 0, 0.3));\n",
              "      fill: #FFFFFF;\n",
              "    }\n",
              "  </style>\n",
              "\n",
              "    <script>\n",
              "      const buttonEl =\n",
              "        document.querySelector('#df-5262c93e-2343-4ac6-8c71-4ce7ab4f722f button.colab-df-convert');\n",
              "      buttonEl.style.display =\n",
              "        google.colab.kernel.accessAllowed ? 'block' : 'none';\n",
              "\n",
              "      async function convertToInteractive(key) {\n",
              "        const element = document.querySelector('#df-5262c93e-2343-4ac6-8c71-4ce7ab4f722f');\n",
              "        const dataTable =\n",
              "          await google.colab.kernel.invokeFunction('convertToInteractive',\n",
              "                                                    [key], {});\n",
              "        if (!dataTable) return;\n",
              "\n",
              "        const docLinkHtml = 'Like what you see? Visit the ' +\n",
              "          '<a target=\"_blank\" href=https://colab.research.google.com/notebooks/data_table.ipynb>data table notebook</a>'\n",
              "          + ' to learn more about interactive tables.';\n",
              "        element.innerHTML = '';\n",
              "        dataTable['output_type'] = 'display_data';\n",
              "        await google.colab.output.renderOutput(dataTable, element);\n",
              "        const docLink = document.createElement('div');\n",
              "        docLink.innerHTML = docLinkHtml;\n",
              "        element.appendChild(docLink);\n",
              "      }\n",
              "    </script>\n",
              "  </div>\n",
              "\n",
              "\n",
              "<div id=\"df-10f1f112-1dbe-4212-9b60-d096e4867b99\">\n",
              "  <button class=\"colab-df-quickchart\" onclick=\"quickchart('df-10f1f112-1dbe-4212-9b60-d096e4867b99')\"\n",
              "            title=\"Suggest charts\"\n",
              "            style=\"display:none;\">\n",
              "\n",
              "<svg xmlns=\"http://www.w3.org/2000/svg\" height=\"24px\"viewBox=\"0 0 24 24\"\n",
              "     width=\"24px\">\n",
              "    <g>\n",
              "        <path d=\"M19 3H5c-1.1 0-2 .9-2 2v14c0 1.1.9 2 2 2h14c1.1 0 2-.9 2-2V5c0-1.1-.9-2-2-2zM9 17H7v-7h2v7zm4 0h-2V7h2v10zm4 0h-2v-4h2v4z\"/>\n",
              "    </g>\n",
              "</svg>\n",
              "  </button>\n",
              "\n",
              "<style>\n",
              "  .colab-df-quickchart {\n",
              "      --bg-color: #E8F0FE;\n",
              "      --fill-color: #1967D2;\n",
              "      --hover-bg-color: #E2EBFA;\n",
              "      --hover-fill-color: #174EA6;\n",
              "      --disabled-fill-color: #AAA;\n",
              "      --disabled-bg-color: #DDD;\n",
              "  }\n",
              "\n",
              "  [theme=dark] .colab-df-quickchart {\n",
              "      --bg-color: #3B4455;\n",
              "      --fill-color: #D2E3FC;\n",
              "      --hover-bg-color: #434B5C;\n",
              "      --hover-fill-color: #FFFFFF;\n",
              "      --disabled-bg-color: #3B4455;\n",
              "      --disabled-fill-color: #666;\n",
              "  }\n",
              "\n",
              "  .colab-df-quickchart {\n",
              "    background-color: var(--bg-color);\n",
              "    border: none;\n",
              "    border-radius: 50%;\n",
              "    cursor: pointer;\n",
              "    display: none;\n",
              "    fill: var(--fill-color);\n",
              "    height: 32px;\n",
              "    padding: 0;\n",
              "    width: 32px;\n",
              "  }\n",
              "\n",
              "  .colab-df-quickchart:hover {\n",
              "    background-color: var(--hover-bg-color);\n",
              "    box-shadow: 0 1px 2px rgba(60, 64, 67, 0.3), 0 1px 3px 1px rgba(60, 64, 67, 0.15);\n",
              "    fill: var(--button-hover-fill-color);\n",
              "  }\n",
              "\n",
              "  .colab-df-quickchart-complete:disabled,\n",
              "  .colab-df-quickchart-complete:disabled:hover {\n",
              "    background-color: var(--disabled-bg-color);\n",
              "    fill: var(--disabled-fill-color);\n",
              "    box-shadow: none;\n",
              "  }\n",
              "\n",
              "  .colab-df-spinner {\n",
              "    border: 2px solid var(--fill-color);\n",
              "    border-color: transparent;\n",
              "    border-bottom-color: var(--fill-color);\n",
              "    animation:\n",
              "      spin 1s steps(1) infinite;\n",
              "  }\n",
              "\n",
              "  @keyframes spin {\n",
              "    0% {\n",
              "      border-color: transparent;\n",
              "      border-bottom-color: var(--fill-color);\n",
              "      border-left-color: var(--fill-color);\n",
              "    }\n",
              "    20% {\n",
              "      border-color: transparent;\n",
              "      border-left-color: var(--fill-color);\n",
              "      border-top-color: var(--fill-color);\n",
              "    }\n",
              "    30% {\n",
              "      border-color: transparent;\n",
              "      border-left-color: var(--fill-color);\n",
              "      border-top-color: var(--fill-color);\n",
              "      border-right-color: var(--fill-color);\n",
              "    }\n",
              "    40% {\n",
              "      border-color: transparent;\n",
              "      border-right-color: var(--fill-color);\n",
              "      border-top-color: var(--fill-color);\n",
              "    }\n",
              "    60% {\n",
              "      border-color: transparent;\n",
              "      border-right-color: var(--fill-color);\n",
              "    }\n",
              "    80% {\n",
              "      border-color: transparent;\n",
              "      border-right-color: var(--fill-color);\n",
              "      border-bottom-color: var(--fill-color);\n",
              "    }\n",
              "    90% {\n",
              "      border-color: transparent;\n",
              "      border-bottom-color: var(--fill-color);\n",
              "    }\n",
              "  }\n",
              "</style>\n",
              "\n",
              "  <script>\n",
              "    async function quickchart(key) {\n",
              "      const quickchartButtonEl =\n",
              "        document.querySelector('#' + key + ' button');\n",
              "      quickchartButtonEl.disabled = true;  // To prevent multiple clicks.\n",
              "      quickchartButtonEl.classList.add('colab-df-spinner');\n",
              "      try {\n",
              "        const charts = await google.colab.kernel.invokeFunction(\n",
              "            'suggestCharts', [key], {});\n",
              "      } catch (error) {\n",
              "        console.error('Error during call to suggestCharts:', error);\n",
              "      }\n",
              "      quickchartButtonEl.classList.remove('colab-df-spinner');\n",
              "      quickchartButtonEl.classList.add('colab-df-quickchart-complete');\n",
              "    }\n",
              "    (() => {\n",
              "      let quickchartButtonEl =\n",
              "        document.querySelector('#df-10f1f112-1dbe-4212-9b60-d096e4867b99 button');\n",
              "      quickchartButtonEl.style.display =\n",
              "        google.colab.kernel.accessAllowed ? 'block' : 'none';\n",
              "    })();\n",
              "  </script>\n",
              "</div>\n",
              "\n",
              "    </div>\n",
              "  </div>\n"
            ],
            "application/vnd.google.colaboratory.intrinsic+json": {
              "type": "dataframe",
              "summary": "{\n  \"name\": \"data\",\n  \"rows\": 413,\n  \"fields\": [\n    {\n      \"column\": \"Artist\",\n      \"properties\": {\n        \"dtype\": \"category\",\n        \"num_unique_values\": 115,\n        \"samples\": [\n          \"Lil Tjay\",\n          \"Wyclef Jean\",\n          \"Young Nudy\"\n        ],\n        \"semantic_type\": \"\",\n        \"description\": \"\"\n      }\n    },\n    {\n      \"column\": \"Track Name\",\n      \"properties\": {\n        \"dtype\": \"string\",\n        \"num_unique_values\": 412,\n        \"samples\": [\n          \"Laugh Now Cry Later (feat. Lil Durk)\",\n          \"Mrs. Officer\",\n          \"PERO T\\u00c3\\u009a\"\n        ],\n        \"semantic_type\": \"\",\n        \"description\": \"\"\n      }\n    },\n    {\n      \"column\": \"Popularity\",\n      \"properties\": {\n        \"dtype\": \"number\",\n        \"std\": 9,\n        \"min\": 29,\n        \"max\": 97,\n        \"num_unique_values\": 51,\n        \"samples\": [\n          88,\n          85,\n          91\n        ],\n        \"semantic_type\": \"\",\n        \"description\": \"\"\n      }\n    },\n    {\n      \"column\": \"Duration (ms)\",\n      \"properties\": {\n        \"dtype\": \"number\",\n        \"std\": 53980,\n        \"min\": 81666,\n        \"max\": 501648,\n        \"num_unique_values\": 410,\n        \"samples\": [\n          239146,\n          172714,\n          154997\n        ],\n        \"semantic_type\": \"\",\n        \"description\": \"\"\n      }\n    },\n    {\n      \"column\": \"Track ID\",\n      \"properties\": {\n        \"dtype\": \"string\",\n        \"num_unique_values\": 413,\n        \"samples\": [\n          \"5wG3HvLhF6Y5KTGlK0IW3J\",\n          \"6gMj2DzKR2PjrrbNSwcGFR\",\n          \"7lQ8MOhq6IN2w8EYcFNSUk\"\n        ],\n        \"semantic_type\": \"\",\n        \"description\": \"\"\n      }\n    }\n  ]\n}"
            }
          },
          "metadata": {},
          "execution_count": 53
        }
      ]
    },
    {
      "cell_type": "code",
      "source": [
        "# Search for rows where 'Artist' contains 'Post Malone'\n",
        "result = data[data['Artist'].str.contains('Post Malone')]\n",
        "print(result)\n"
      ],
      "metadata": {
        "id": "_EQXLNo0Yohj",
        "outputId": "d717254b-56e2-422e-d1c9-38362ea2b9fa",
        "colab": {
          "base_uri": "https://localhost:8080/"
        }
      },
      "execution_count": null,
      "outputs": [
        {
          "output_type": "stream",
          "name": "stdout",
          "text": [
            "         Artist                                     Track Name  Popularity  \\\n",
            "10  Post Malone  Sunflower - Spider-Man: Into the Spider-Verse          87   \n",
            "11  Post Malone                                        Circles          88   \n",
            "13  Post Malone                                       Chemical          85   \n",
            "14  Post Malone                     rockstar (feat. 21 Savage)          85   \n",
            "15  Post Malone                                Congratulations          84   \n",
            "16  Post Malone    I Like You (A Happier Song) (with Doja Cat)          84   \n",
            "17  Post Malone                                           Wow.          84   \n",
            "18  Post Malone                                     Better Now          83   \n",
            "\n",
            "    Duration (ms)                Track ID  \n",
            "10         157560  0RiRZpuVRbi7oqRdSMwhQY  \n",
            "11         215280  21jGcNKet2qwijlDFuPiPb  \n",
            "13         184013  5w40ZYhbBMAlHYNDaVJIUu  \n",
            "14         218146  0e7ipj03S05BNilyu5bRzt  \n",
            "15         220293  3a1lNhkSLSkpJE4MSHpDu9  \n",
            "16         192840  0O6u0VJ46W86TxN9wgyqDj  \n",
            "17         149546  7xQAfvXzm3AkraOtGPWIZg  \n",
            "18         231266  7dt6x5M1jzdTEt8oCbisTK  \n"
          ]
        }
      ]
    },
    {
      "cell_type": "code",
      "source": [
        "# Define a custom function to search for rows with 'Popularity' greater than 50000 and 'Duration (ms)' less than 300000\n",
        "def custom_search(row):\n",
        "    return row['Popularity'] > 50 and row['Duration (ms)'] < 300000\n",
        "\n",
        "# Apply the custom function to filter rows\n",
        "result = data[data.apply(custom_search, axis=1)]\n",
        "print(result.head)"
      ],
      "metadata": {
        "id": "aMoy_YgoYyZU",
        "outputId": "ab2cc0be-ddb7-48ee-f3ee-5d9ac68e9053",
        "colab": {
          "base_uri": "https://localhost:8080/"
        }
      },
      "execution_count": null,
      "outputs": [
        {
          "output_type": "stream",
          "name": "stdout",
          "text": [
            "<bound method NDFrame.head of              Artist                                         Track Name  \\\n",
            "1             Drake                                          One Dance   \n",
            "2             Drake                                 IDGAF (feat. Yeat)   \n",
            "3             Drake               First Person Shooter (feat. J. Cole)   \n",
            "4             Drake                      Jimmy Cooks (feat. 21 Savage)   \n",
            "5             Drake                                         God's Plan   \n",
            "..              ...                                                ...   \n",
            "433  French Montana                                       Stand United   \n",
            "434    Jason Derulo                     Tip Toe (feat. French Montana)   \n",
            "436         Fat Joe                     All The Way Up (feat. Infared)   \n",
            "437       A$AP Ferg  Work REMIX (feat. A$AP Rocky, French Montana, ...   \n",
            "438           Diddy                Another One Of Me (feat. 21 Savage)   \n",
            "\n",
            "     Popularity  Duration (ms)                Track ID  \n",
            "1            91         173986  1zi7xx7UVEFkmKfv06H8x0  \n",
            "2            90         260111  2YSzYUF3jWqb9YP9VXmpjE  \n",
            "3            88         247444  7aqfrAY2p9BUSiupwk3svU  \n",
            "4            88         218364  3F5CgOj3wFlRv51JsHbxhe  \n",
            "5            87         198973  6DCZcSspjsKoFjzjrWoCdn  \n",
            "..          ...            ...                     ...  \n",
            "433          54         163971  01CHrTerCzyRpMI1MzQ4fz  \n",
            "434          65         187521  0TY3jVGwGDwDabLyQLVRQQ  \n",
            "436          64         191900  7Ezwtgfw7khBrpvaNPtMoT  \n",
            "437          69         283693  7xVLFuuYdAvcTfcP3IG3dS  \n",
            "438          65         220408  4hGmQboiou09EwhcTWa0H6  \n",
            "\n",
            "[391 rows x 5 columns]>\n"
          ]
        }
      ]
    },
    {
      "cell_type": "code",
      "source": [
        "# Using Group By function\n",
        "# Group the DataFrame by 'Duration (ms)' and calculate aggregate statistics\n",
        "Duration_stats = data.groupby('Duration (ms)').agg({\n",
        "    'Popularity': ['mean', 'median', 'min', 'max'],\n",
        "})\n",
        "\n",
        "# Display the aggregated statistics for each Duration (ms) level\n",
        "print(\"Aggregate Statistics by Duration (ms) Level:\")\n",
        "print(Duration_stats)\n"
      ],
      "metadata": {
        "id": "kXqoDASQY5T6",
        "outputId": "8902a34d-4723-43d4-c815-a4e12b27d60a",
        "colab": {
          "base_uri": "https://localhost:8080/"
        }
      },
      "execution_count": null,
      "outputs": [
        {
          "output_type": "stream",
          "name": "stdout",
          "text": [
            "Aggregate Statistics by Duration (ms) Level:\n",
            "              Popularity               \n",
            "                    mean median min max\n",
            "Duration (ms)                          \n",
            "81666               73.0   73.0  73  73\n",
            "89741               79.0   79.0  79  79\n",
            "96013               75.0   75.0  75  75\n",
            "97392               83.0   83.0  83  83\n",
            "104819              70.0   70.0  70  70\n",
            "...                  ...    ...  ..  ..\n",
            "357706              77.0   77.0  77  77\n",
            "366592              78.0   78.0  78  78\n",
            "386906              82.0   82.0  82  82\n",
            "404106              84.0   84.0  84  84\n",
            "501648              64.0   64.0  64  64\n",
            "\n",
            "[410 rows x 4 columns]\n"
          ]
        }
      ]
    },
    {
      "cell_type": "markdown",
      "source": [
        "Step 6: Data Visualisation"
      ],
      "metadata": {
        "id": "rY-MC15vZBrH"
      }
    },
    {
      "cell_type": "code",
      "source": [
        "print(data.columns)\n",
        "\n",
        "# To create a Dataframe object to hold the data in a tabular format\n",
        "df = pd.DataFrame(data.head(20))"
      ],
      "metadata": {
        "id": "_1g0QUtpZHes",
        "outputId": "61342227-c971-4208-9363-2a551cb98a81",
        "colab": {
          "base_uri": "https://localhost:8080/"
        }
      },
      "execution_count": null,
      "outputs": [
        {
          "output_type": "stream",
          "name": "stdout",
          "text": [
            "Index(['Artist', 'Track Name', 'Popularity', 'Duration (ms)', 'Track ID'], dtype='object')\n"
          ]
        }
      ]
    },
    {
      "cell_type": "code",
      "source": [
        "# Generate a pie chart to visualize the distribution of values in the 'Duration (ms)' column\n",
        "df['Duration (ms)'].value_counts().plot(kind='pie', autopct='%1.1f%%')\n",
        "\n",
        "# Add a title to the pie chart indicating the variable being visualized\n",
        "plt.title(\"Duration (ms)\")\n",
        "\n",
        "# Display the pie chart\n",
        "plt.show()\n",
        "\n"
      ],
      "metadata": {
        "id": "LQmYeQYQZYo9",
        "outputId": "92c263b6-7eb3-4ae4-891d-c76167523c0c",
        "colab": {
          "base_uri": "https://localhost:8080/",
          "height": 428
        }
      },
      "execution_count": null,
      "outputs": [
        {
          "output_type": "display_data",
          "data": {
            "text/plain": [
              "<Figure size 640x480 with 1 Axes>"
            ],
            "image/png": "[encoded data removed]"
          },
          "metadata": {}
        }
      ]
    },
    {
      "cell_type": "code",
      "source": [
        "# Generate a bar chart to visualize the distribution of values in the 'Popularity' column\n",
        "df['Popularity'].value_counts().plot(kind='bar', color='green')\n",
        "\n",
        "# Add a label to the x-axis indicating the variable being visualized\n",
        "plt.xlabel('Number of Popularity')\n",
        "\n",
        "# Add a label to the y-axis indicating the count of each value\n",
        "plt.ylabel('Count')\n",
        "\n",
        "# Add a title to the bar chart indicating the purpose of the visualization\n",
        "plt.title('Distribution of Number of Popularity')\n",
        "\n",
        "# Display the bar chart\n",
        "plt.show()"
      ],
      "metadata": {
        "id": "pIQTurhgZheo",
        "outputId": "38eaf410-a079-46cc-bc59-462a1f66082e",
        "colab": {
          "base_uri": "https://localhost:8080/",
          "height": 475
        }
      },
      "execution_count": null,
      "outputs": [
        {
          "output_type": "display_data",
          "data": {
            "text/plain": [
              "<Figure size 640x480 with 1 Axes>"
            ],
            "image/png": "[encoded data removed]"
          },
          "metadata": {}
        }
      ]
    },
    {
      "cell_type": "code",
      "source": [
        "# Generate a horizontal bar chart to visualize the distribution of values in the 'Duration (ms)' column\n",
        "df['Duration (ms)'].value_counts().plot(kind='barh', color='yellow')\n",
        "\n",
        "# Add a label to the x-axis indicating the count of each value\n",
        "plt.xlabel('Count')\n",
        "\n",
        "# Add a label to the y-axis indicating the variable being visualized\n",
        "plt.ylabel('Duration (ms) Level')\n",
        "\n",
        "# Add a title to the horizontal bar chart indicating the purpose of the visualization\n",
        "plt.title('Distribution of Duration (ms) Levels')\n",
        "\n",
        "# Display the horizontal bar chart\n",
        "plt.show()\n"
      ],
      "metadata": {
        "id": "dzRHXu9EZxIG",
        "outputId": "e26b4615-fc7e-42d5-f5c0-2cf821b65934",
        "colab": {
          "base_uri": "https://localhost:8080/",
          "height": 472
        }
      },
      "execution_count": null,
      "outputs": [
        {
          "output_type": "display_data",
          "data": {
            "text/plain": [
              "<Figure size 640x480 with 1 Axes>"
            ],
            "image/png": "[encoded data removed]"
          },
          "metadata": {}
        }
      ]
    },
    {
      "cell_type": "code",
      "source": [
        "# Sort the DataFrame by the 'Duration (ms)' column to ensure the data is plotted in chronological order\n",
        "df.sort_values(by='Duration (ms)', inplace=True)\n",
        "\n",
        "# Plot a line chart to visualize the trend of 'Popularity' over time\n",
        "plt.plot(df['Duration (ms)'], df['Popularity'], color='orange', marker='o', linestyle='-')\n",
        "\n",
        "# Add a label to the x-axis indicating the date of Duration (ms)\n",
        "plt.xlabel('Date of Duration (ms)')\n",
        "\n",
        "# Add a label to the y-axis indicating the income\n",
        "plt.ylabel('Popularity')\n",
        "\n",
        "# Add a title to the line chart indicating the purpose of the visualization\n",
        "plt.title('Trend of Popularity ')\n",
        "\n",
        "# Rotate x-axis labels by 45 degrees for better readability\n",
        "plt.xticks(rotation=45)\n",
        "\n",
        "# Add grid lines to the plot for better visualization\n",
        "plt.grid(True)\n",
        "\n",
        "# Display the line chart\n",
        "plt.show()"
      ],
      "metadata": {
        "id": "oaKLuBoJZ-0T",
        "outputId": "7eab168f-c61f-4025-97b1-96db8544c011",
        "colab": {
          "base_uri": "https://localhost:8080/",
          "height": 505
        }
      },
      "execution_count": null,
      "outputs": [
        {
          "output_type": "display_data",
          "data": {
            "text/plain": [
              "<Figure size 640x480 with 1 Axes>"
            ],
            "image/png": "[encoded data removed]"
          },
          "metadata": {}
        }
      ]
    },
    {
      "cell_type": "code",
      "source": [
        "# Generate a scatter plot to visualize the relationship between 'Popularity' and 'Duration (ms)'\n",
        "plt.scatter(df['Popularity'], df['Duration (ms)'], color='blue', alpha=0.5)\n",
        "\n",
        "# Add a label to the x-axis indicating the variable being visualized\n",
        "plt.xlabel('Popularity')\n",
        "\n",
        "# Add a label to the y-axis indicating the variable being visualized\n",
        "plt.ylabel('Duration (ms)')\n",
        "\n",
        "# Add a title to the scatter plot indicating the purpose of the visualization\n",
        "plt.title('Scatter Plot: Popularity vs. Duration (ms)')\n",
        "\n",
        "# Add grid lines to the scatter plot for better visualization\n",
        "plt.grid(True)\n",
        "\n",
        "# Display the scatter plot\n",
        "plt.show()"
      ],
      "metadata": {
        "id": "BJnlsl9YaRsq",
        "outputId": "7f4dc5bc-8f0f-44b9-fb16-a68e86aac84b",
        "colab": {
          "base_uri": "https://localhost:8080/",
          "height": 472
        }
      },
      "execution_count": null,
      "outputs": [
        {
          "output_type": "display_data",
          "data": {
            "text/plain": [
              "<Figure size 640x480 with 1 Axes>"
            ],
            "image/png": "[encoded data removed]"
          },
          "metadata": {}
        }
      ]
    },
    {
      "cell_type": "code",
      "source": [
        "# Generate a histogram to visualize the distribution of values in the 'Popularity' column\n",
        "plt.hist(df['Popularity'], bins=20, color='pink', edgecolor='black')\n",
        "\n",
        "# Add a label to the x-axis indicating the variable being visualized\n",
        "plt.xlabel('Popularity')\n",
        "\n",
        "# Add a label to the y-axis indicating the frequency of observations\n",
        "plt.ylabel('Frequency')\n",
        "\n",
        "# Add a title to the histogram indicating the purpose of the visualization\n",
        "plt.title('Distribution of Popularity')\n",
        "\n",
        "# Add grid lines to the histogram for better visualization\n",
        "plt.grid(True)\n",
        "\n",
        "# Display the histogram\n",
        "plt.show()\n",
        "\n"
      ],
      "metadata": {
        "id": "L-Kxw5gaabVu",
        "outputId": "6cf5ae8d-fc79-46d9-884a-f3cd27abb2be",
        "colab": {
          "base_uri": "https://localhost:8080/",
          "height": 472
        }
      },
      "execution_count": null,
      "outputs": [
        {
          "output_type": "display_data",
          "data": {
            "text/plain": [
              "<Figure size 640x480 with 1 Axes>"
            ],
            "image/png": "[encoded data removed]"
          },
          "metadata": {}
        }
      ]
    },
    {
      "cell_type": "markdown",
      "source": [
        "conclusion\n",
        "The analysis of the HipHop Artists Dataset reveals a diverse landscape within the genre. Artists like Drake, Travis Scott, and Post Malone dominate the popularity charts with multiple tracks scoring high. Collaboration is a key theme, with artists frequently teaming up for chart-topping hits. Additionally, there's a notable presence of emerging artists like Jack Harlow and Yeat, indicating a dynamic and evolving scene. Overall, the dataset showcases the genre's wide range of styles and the collaborative spirit that defines it."
      ],
      "metadata": {
        "id": "eDNKPaZ7amaB"
      }
    },
    {
      "cell_type": "code",
      "source": [
        "from google.colab import drive\n",
        "drive.mount('/content/drive')\n"
      ],
      "metadata": {
        "id": "TRDBl_e5aRWB",
        "outputId": "9fbb29e7-8e92-4623-a141-82a3a3641c27",
        "colab": {
          "base_uri": "https://localhost:8080/"
        }
      },
      "execution_count": null,
      "outputs": [
        {
          "output_type": "stream",
          "name": "stdout",
          "text": [
            "Drive already mounted at /content/drive; to attempt to forcibly remount, call drive.mount(\"/content/drive\", force_remount=True).\n"
          ]
        }
      ]
    }
  ],
  "metadata": {
    "colab": {
      "provenance": []
    },
    "kernelspec": {
      "display_name": "Python 3",
      "name": "python3"
    }
  },
  "nbformat": 4,
  "nbformat_minor": 0
}